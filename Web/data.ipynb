{
 "cells": [
  {
   "cell_type": "code",
   "execution_count": 2,
   "id": "e1942173-6140-4e5f-8234-295fba8716c7",
   "metadata": {},
   "outputs": [],
   "source": [
    "import pandas as pd"
   ]
  },
  {
   "cell_type": "code",
   "execution_count": 3,
   "id": "cad7f52c-d91b-4006-a908-16e491bb5c14",
   "metadata": {},
   "outputs": [],
   "source": [
    "path_latest = \"country_wise_latest.csv\"\n",
    "path_clean = \"covid_19_clean_complete.csv\""
   ]
  },
  {
   "cell_type": "code",
   "execution_count": 4,
   "id": "93824f31-aa85-4770-8a04-b70eaabe1931",
   "metadata": {},
   "outputs": [],
   "source": [
    "df_latest = pd.read_csv(path_latest)\n",
    "df_clean = pd.read_csv(path_clean)"
   ]
  },
  {
   "cell_type": "code",
   "execution_count": 5,
   "id": "82925326-5489-4f28-82bd-1a9910421ea4",
   "metadata": {},
   "outputs": [
    {
     "name": "stdout",
     "output_type": "stream",
     "text": [
      "Latest shape: (187, 15)\n",
      "Clean shape: (49068, 10)\n"
     ]
    }
   ],
   "source": [
    "print(\"Latest shape:\", df_latest.shape)\n",
    "print(\"Clean shape:\", df_clean.shape)"
   ]
  },
  {
   "cell_type": "code",
   "execution_count": 6,
   "id": "898c4255-850c-465a-98a5-827df6c9d0e6",
   "metadata": {},
   "outputs": [],
   "source": [
    "df_coords = df_clean[['Country/Region', 'Lat', 'Long']].drop_duplicates()"
   ]
  },
  {
   "cell_type": "code",
   "execution_count": 7,
   "id": "b7399c8e-2197-4883-bf3e-4ac0431dfafb",
   "metadata": {},
   "outputs": [
    {
     "name": "stdout",
     "output_type": "stream",
     "text": [
      "  Country/Region       Lat       Long\n",
      "0    Afghanistan  33.93911  67.709953\n",
      "1        Albania  41.15330  20.168300\n",
      "2        Algeria  28.03390   1.659600\n",
      "3        Andorra  42.50630   1.521800\n",
      "4         Angola -11.20270  17.873900\n"
     ]
    }
   ],
   "source": [
    "print(df_coords.head())"
   ]
  },
  {
   "cell_type": "code",
   "execution_count": 8,
   "id": "2107b6e8-265c-4350-9418-98e2e96410ce",
   "metadata": {},
   "outputs": [],
   "source": [
    "df_cases = df_latest[['Country/Region', 'Confirmed']]"
   ]
  },
  {
   "cell_type": "code",
   "execution_count": 9,
   "id": "a3d63887-c236-4ecf-ab46-874fedbe9be8",
   "metadata": {},
   "outputs": [],
   "source": [
    "df_merged = pd.merge(df_cases, df_coords, on=\"Country/Region\", how=\"left\")"
   ]
  },
  {
   "cell_type": "code",
   "execution_count": 10,
   "id": "5137504f-ef88-41ee-bba1-bcc45f40fa1e",
   "metadata": {},
   "outputs": [
    {
     "name": "stdout",
     "output_type": "stream",
     "text": [
      "  Country/Region  Confirmed       Lat       Long\n",
      "0    Afghanistan      36263  33.93911  67.709953\n",
      "1        Albania       4880  41.15330  20.168300\n",
      "2        Algeria      27973  28.03390   1.659600\n",
      "3        Andorra        907  42.50630   1.521800\n",
      "4         Angola        950 -11.20270  17.873900\n"
     ]
    }
   ],
   "source": [
    "print(df_merged.head())"
   ]
  },
  {
   "cell_type": "code",
   "execution_count": 11,
   "id": "cec3f524-fa4a-45da-b75d-f6532cffc1b7",
   "metadata": {},
   "outputs": [],
   "source": [
    "df_merged = df_merged.dropna(subset=['Lat', 'Long'])"
   ]
  },
  {
   "cell_type": "code",
   "execution_count": 12,
   "id": "f15c4ccd-a602-49ee-ac45-f8317687ac4a",
   "metadata": {},
   "outputs": [],
   "source": [
    "df_ready = df_merged.rename(columns={\n",
    "    'Country/Region': 'title',\n",
    "    'Lat': 'latitude',\n",
    "    'Long': 'longitude',\n",
    "    'Confirmed': 'cases'\n",
    "})"
   ]
  },
  {
   "cell_type": "code",
   "execution_count": 13,
   "id": "66d6b014-92f7-472a-8a1a-19883e650328",
   "metadata": {},
   "outputs": [],
   "source": [
    "covid_json = df_ready.to_dict(orient='records')"
   ]
  },
  {
   "cell_type": "code",
   "execution_count": 14,
   "id": "b9ff1416-24aa-4bb5-be1b-5005f3867111",
   "metadata": {},
   "outputs": [],
   "source": [
    "import json"
   ]
  },
  {
   "cell_type": "code",
   "execution_count": 15,
   "id": "82c2f882-97f6-4c6e-9464-d5c8b3614be0",
   "metadata": {},
   "outputs": [],
   "source": [
    "with open(\"covidData.json\", \"w\") as f:\n",
    "    json.dump(covid_json, f, indent=2)"
   ]
  },
  {
   "cell_type": "code",
   "execution_count": 16,
   "id": "edfda6ab-bc1a-4677-a903-39b3f2687e06",
   "metadata": {},
   "outputs": [
    {
     "name": "stdout",
     "output_type": "stream",
     "text": [
      "JSON file saved as covidData.json\n"
     ]
    }
   ],
   "source": [
    "print(\"JSON file saved as covidData.json\")"
   ]
  },
  {
   "cell_type": "code",
   "execution_count": null,
   "id": "f50fefb1-143e-42bd-b0fc-091f292771ec",
   "metadata": {},
   "outputs": [],
   "source": []
  },
  {
   "cell_type": "code",
   "execution_count": null,
   "id": "b16a4230-fac4-409d-b02f-e3e1a1307d78",
   "metadata": {},
   "outputs": [],
   "source": []
  },
  {
   "cell_type": "code",
   "execution_count": null,
   "id": "710f8d3a-e12c-4988-ab2c-4278c2bab7dc",
   "metadata": {},
   "outputs": [],
   "source": []
  },
  {
   "cell_type": "code",
   "execution_count": null,
   "id": "717217bf-a338-43fb-aa43-bd0d6b04f232",
   "metadata": {},
   "outputs": [],
   "source": []
  },
  {
   "cell_type": "code",
   "execution_count": null,
   "id": "58cf61fa-f0fa-4515-bcd2-592b3b25e0bb",
   "metadata": {},
   "outputs": [],
   "source": []
  }
 ],
 "metadata": {
  "kernelspec": {
   "display_name": "Python 3 (ipykernel)",
   "language": "python",
   "name": "python3"
  },
  "language_info": {
   "codemirror_mode": {
    "name": "ipython",
    "version": 3
   },
   "file_extension": ".py",
   "mimetype": "text/x-python",
   "name": "python",
   "nbconvert_exporter": "python",
   "pygments_lexer": "ipython3",
   "version": "3.12.10"
  }
 },
 "nbformat": 4,
 "nbformat_minor": 5
}
